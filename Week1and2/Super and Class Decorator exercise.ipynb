{
 "cells": [
  {
   "cell_type": "code",
   "execution_count": 30,
   "metadata": {
    "collapsed": false
   },
   "outputs": [],
   "source": [
    "class A(object):\n",
    "    hi = 1\n",
    "    def ho(self):\n",
    "        return \"A method\",self.hi\n",
    "    @classmethod\n",
    "    def hoClass(cls):\n",
    "        print(cls)\n",
    "        return \"A class method\", cls.hi\n",
    "\n",
    "class B(A):\n",
    "    hi = 2\n",
    "    def ho(self):\n",
    "        return \"B method\",self.hi\n",
    "    @classmethod\n",
    "    def hoClass(cls):\n",
    "        print(cls)\n",
    "        return \"B class method\", cls.hi\n"
   ]
  },
  {
   "cell_type": "code",
   "execution_count": 31,
   "metadata": {
    "collapsed": false
   },
   "outputs": [
    {
     "ename": "NameError",
     "evalue": "name 'C_Error' is not defined",
     "output_type": "error",
     "traceback": [
      "\u001b[0;31m---------------------------------------------------------------------------\u001b[0m",
      "\u001b[0;31mNameError\u001b[0m                                 Traceback (most recent call last)",
      "\u001b[0;32m<ipython-input-31-84264efd8998>\u001b[0m in \u001b[0;36m<module>\u001b[0;34m()\u001b[0m\n\u001b[0;32m----> 1\u001b[0;31m \u001b[0;32mclass\u001b[0m \u001b[0mC_Error\u001b[0m\u001b[0;34m(\u001b[0m\u001b[0mB\u001b[0m\u001b[0;34m)\u001b[0m\u001b[0;34m:\u001b[0m\u001b[0;34m\u001b[0m\u001b[0m\n\u001b[0m\u001b[1;32m      2\u001b[0m     \u001b[0msup\u001b[0m \u001b[0;34m=\u001b[0m \u001b[0msuper\u001b[0m\u001b[0;34m(\u001b[0m\u001b[0mC_Error\u001b[0m\u001b[0;34m)\u001b[0m\u001b[0;34m\u001b[0m\u001b[0m\n",
      "\u001b[0;32m<ipython-input-31-84264efd8998>\u001b[0m in \u001b[0;36mC_Error\u001b[0;34m()\u001b[0m\n\u001b[1;32m      1\u001b[0m \u001b[0;32mclass\u001b[0m \u001b[0mC_Error\u001b[0m\u001b[0;34m(\u001b[0m\u001b[0mB\u001b[0m\u001b[0;34m)\u001b[0m\u001b[0;34m:\u001b[0m\u001b[0;34m\u001b[0m\u001b[0m\n\u001b[0;32m----> 2\u001b[0;31m     \u001b[0msup\u001b[0m \u001b[0;34m=\u001b[0m \u001b[0msuper\u001b[0m\u001b[0;34m(\u001b[0m\u001b[0mC_Error\u001b[0m\u001b[0;34m)\u001b[0m\u001b[0;34m\u001b[0m\u001b[0m\n\u001b[0m",
      "\u001b[0;31mNameError\u001b[0m: name 'C_Error' is not defined"
     ]
    }
   ],
   "source": [
    "class C_Error(B):\n",
    "    sup = super(C_Error)"
   ]
  },
  {
   "cell_type": "code",
   "execution_count": 32,
   "metadata": {
    "collapsed": false
   },
   "outputs": [],
   "source": [
    "#In the next cell, achieve what you achieve\n",
    "#in this cell more nicely with decorators\n",
    "class C_NoDecorator(B):\n",
    "    hi = 3;\n",
    "    supSup = super(B)\n",
    "    def ho(self):\n",
    "        return \"C method\",self.hi\n",
    "C_NoDecorator.sup = super(C_NoDecorator)\n",
    "\n",
    "c = C_NoDecorator();"
   ]
  },
  {
   "cell_type": "code",
   "execution_count": 33,
   "metadata": {
    "collapsed": false
   },
   "outputs": [
    {
     "data": {
      "text/plain": [
       "['__class__',\n",
       " '__delattr__',\n",
       " '__dict__',\n",
       " '__doc__',\n",
       " '__format__',\n",
       " '__getattribute__',\n",
       " '__hash__',\n",
       " '__init__',\n",
       " '__module__',\n",
       " '__new__',\n",
       " '__reduce__',\n",
       " '__reduce_ex__',\n",
       " '__repr__',\n",
       " '__setattr__',\n",
       " '__sizeof__',\n",
       " '__str__',\n",
       " '__subclasshook__',\n",
       " '__weakref__',\n",
       " 'hi',\n",
       " 'ho',\n",
       " 'hoClass',\n",
       " 'sup',\n",
       " 'supSup']"
      ]
     },
     "execution_count": 33,
     "metadata": {},
     "output_type": "execute_result"
    }
   ],
   "source": [
    "def superDecorator(cls):\n",
    "    cls.sup = super(cls);\n",
    "    return cls\n",
    "\n",
    "@superDecorator\n",
    "class C(B):\n",
    "    hi = 3;\n",
    "    supSup = super(B)\n",
    "    def ho(self):\n",
    "        return \"C method\",self.hi\n",
    "    @classmethod\n",
    "    def hoClass(cls):\n",
    "        print(cls)\n",
    "        return \"C class method\", cls.hi\n",
    "\n",
    "c = C()\n",
    "dir(c)"
   ]
  },
  {
   "cell_type": "code",
   "execution_count": 34,
   "metadata": {
    "collapsed": false
   },
   "outputs": [
    {
     "name": "stdout",
     "output_type": "stream",
     "text": [
      "c's hi 3\n",
      "c's ho ('C method', 3)\n",
      "c's ho class <class '__main__.C'>\n",
      "('C class method', 3)\n"
     ]
    }
   ],
   "source": [
    "print \"c's hi\",c.hi\n",
    "print \"c's ho\",c.ho()\n",
    "print \"c's ho class\",c.hoClass()"
   ]
  },
  {
   "cell_type": "code",
   "execution_count": 35,
   "metadata": {
    "collapsed": false
   },
   "outputs": [
    {
     "name": "stdout",
     "output_type": "stream",
     "text": [
      "sup2 hi 2\n",
      "sup2 ho ('B method', 3)\n",
      "sup2 ho class <class '__main__.C'>\n",
      "('B class method', 3)\n"
     ]
    }
   ],
   "source": [
    "print \"sup2 hi\",c.sup.hi\n",
    "print \"sup2 ho\",c.sup.ho()\n",
    "print \"sup2 ho class\",c.sup.hoClass()"
   ]
  },
  {
   "cell_type": "code",
   "execution_count": 36,
   "metadata": {
    "collapsed": false
   },
   "outputs": [
    {
     "name": "stdout",
     "output_type": "stream",
     "text": [
      "sup1 hi 1\n",
      "sup1 ho ('A method', 3)\n",
      "sup1 ho class <class '__main__.C'>\n",
      "('A class method', 3)\n"
     ]
    }
   ],
   "source": [
    "print \"sup1 hi\",c.supSup.hi\n",
    "print \"sup1 ho\",c.supSup.ho() #calling the super's ho() externally - passes in \"self\"\n",
    "print \"sup1 ho class\",c.supSup.hoClass()"
   ]
  },
  {
   "cell_type": "code",
   "execution_count": null,
   "metadata": {
    "collapsed": true
   },
   "outputs": [],
   "source": []
  },
  {
   "cell_type": "code",
   "execution_count": null,
   "metadata": {
    "collapsed": true
   },
   "outputs": [],
   "source": []
  }
 ],
 "metadata": {
  "kernelspec": {
   "display_name": "Python 2",
   "language": "python",
   "name": "python2"
  },
  "language_info": {
   "codemirror_mode": {
    "name": "ipython",
    "version": 2
   },
   "file_extension": ".py",
   "mimetype": "text/x-python",
   "name": "python",
   "nbconvert_exporter": "python",
   "pygments_lexer": "ipython2",
   "version": "2.7.9"
  }
 },
 "nbformat": 4,
 "nbformat_minor": 0
}
