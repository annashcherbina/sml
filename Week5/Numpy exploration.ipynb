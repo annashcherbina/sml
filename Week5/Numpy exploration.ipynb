{
 "cells": [
  {
   "cell_type": "code",
   "execution_count": 1,
   "metadata": {
    "collapsed": true
   },
   "outputs": [],
   "source": [
    "import numpy as np"
   ]
  },
  {
   "cell_type": "code",
   "execution_count": 13,
   "metadata": {
    "collapsed": true
   },
   "outputs": [],
   "source": [
    "#reshape refers to the same underlying array\n",
    "a = np.arange(6).reshape(2,3)\n",
    "print(a)\n",
    "b = a.reshape(3,2)\n",
    "print(b)\n",
    "a[1,1] = 50\n",
    "print(a)\n",
    "print(b)"
   ]
  },
  {
   "cell_type": "code",
   "execution_count": 8,
   "metadata": {
    "collapsed": true
   },
   "outputs": [],
   "source": [
    "#slicing lists makes a copy...\n",
    "a = range(10)\n",
    "b = a[:5]\n",
    "b[2]=50\n",
    "print(a)\n",
    "print(b)"
   ]
  },
  {
   "cell_type": "code",
   "execution_count": 12,
   "metadata": {
    "collapsed": false
   },
   "outputs": [
    {
     "name": "stdout",
     "output_type": "stream",
     "text": [
      "[ 0  1 50  3  4  5  6  7  8  9]\n",
      "[ 0  1 50  3  4]\n"
     ]
    }
   ],
   "source": [
    "#but slicing numpy arrays does not\n",
    "a = np.arange(10)\n",
    "b = a[:5]\n",
    "b[2]=50\n",
    "print(a)\n",
    "print(b)"
   ]
  },
  {
   "cell_type": "code",
   "execution_count": 20,
   "metadata": {
    "collapsed": false
   },
   "outputs": [
    {
     "name": "stdout",
     "output_type": "stream",
     "text": [
      "[ 0  1  2  3 50  5  6  7  8  9]\n",
      "[ 0  1  2  3 50]\n",
      "[ 0.  1.  2.  3.  4.  0.  0.  0.  0.  0.]\n",
      "4420609648\n",
      "4420610688\n",
      "4420610768\n"
     ]
    }
   ],
   "source": [
    "#however saving the result of a slice\n",
    "#to another slice works as you would expect\n",
    "a = np.arange(10)\n",
    "b = np.zeros(10)\n",
    "c = np.zeros(10)\n",
    "\n",
    "b = a[:5]\n",
    "c[:5] = a[:5]\n",
    "a[4] = 50\n",
    "print(a)\n",
    "print(b)\n",
    "print(c)\n",
    "print(id(a))\n",
    "print(id(b))\n",
    "print(id(c))"
   ]
  },
  {
   "cell_type": "code",
   "execution_count": 24,
   "metadata": {
    "collapsed": true
   },
   "outputs": [],
   "source": [
    "import time\n",
    "def timeMe(func):\n",
    "    start = time.time();\n",
    "    func()\n",
    "    end = time.time();\n",
    "    print(\"took\",str(end-start))"
   ]
  },
  {
   "cell_type": "code",
   "execution_count": 25,
   "metadata": {
    "collapsed": false
   },
   "outputs": [
    {
     "name": "stdout",
     "output_type": "stream",
     "text": [
      "('took', '2.31266021729e-05')\n",
      "('took', '7.15255737305e-06')\n"
     ]
    }
   ],
   "source": [
    "#time of in-place (no copy) versus an op that makes a copy\n",
    "def f1():\n",
    "    a = np.arange(1000)\n",
    "    a = a*2\n",
    "\n",
    "def f2():\n",
    "    a = np.arange(1000)\n",
    "    a*=2;\n",
    "\n",
    "timeMe(f1)\n",
    "timeMe(f2)"
   ]
  },
  {
   "cell_type": "code",
   "execution_count": 32,
   "metadata": {
    "collapsed": false
   },
   "outputs": [
    {
     "name": "stdout",
     "output_type": "stream",
     "text": [
      "[[ 0  1  2  3  4]\n",
      " [ 5  6  7  8  9]\n",
      " [10 11 12 13 14]\n",
      " [15 16 17 18 19]\n",
      " [20 21 22 23 24]]\n",
      "[0 1 2 3 4]\n",
      "[[ 0  1  4  9 16]\n",
      " [ 0  6 14 24 36]\n",
      " [ 0 11 24 39 56]\n",
      " [ 0 16 34 54 76]\n",
      " [ 0 21 44 69 96]]\n",
      "[[ 0  1  4  9 16]\n",
      " [ 0  6 14 24 36]\n",
      " [ 0 11 24 39 56]\n",
      " [ 0 16 34 54 76]\n",
      " [ 0 21 44 69 96]]\n",
      "[[ 0  0  0  0  0]\n",
      " [ 5  6  7  8  9]\n",
      " [20 22 24 26 28]\n",
      " [45 48 51 54 57]\n",
      " [80 84 88 92 96]]\n",
      "4420611008\n",
      "4420611728\n",
      "[50  1  2  3  4]\n",
      "[[50  1  2  3  4]]\n"
     ]
    }
   ],
   "source": [
    "#broadcasting\n",
    "a = np.arange(25).reshape((5,5))\n",
    "b = np.arange(5)\n",
    "print(a)\n",
    "print(b)\n",
    "c = b[None,:]\n",
    "print(a*b[None,:])\n",
    "print(a*b[None,:])\n",
    "print(a*b[:,None])\n",
    "\n",
    "c = np.expand_dims(b, axis=0)\n",
    "print(id(c))\n",
    "print(id(b))\n",
    "b[0]=50\n",
    "print(b)\n",
    "print(c)"
   ]
  },
  {
   "cell_type": "code",
   "execution_count": 33,
   "metadata": {
    "collapsed": false
   },
   "outputs": [
    {
     "name": "stdout",
     "output_type": "stream",
     "text": [
      "[[ 0  1  2]\n",
      " [ 3  4  5]\n",
      " [ 6  7  8]\n",
      " [ 9 10 11]]\n",
      "[[0 1 2]\n",
      " [3 4 5]]\n"
     ]
    },
    {
     "ename": "ValueError",
     "evalue": "operands could not be broadcast together with shapes (4,3) (2,3) ",
     "output_type": "error",
     "traceback": [
      "\u001b[0;31m---------------------------------------------------------------------------\u001b[0m",
      "\u001b[0;31mValueError\u001b[0m                                Traceback (most recent call last)",
      "\u001b[0;32m<ipython-input-33-27c0cc85ccf9>\u001b[0m in \u001b[0;36m<module>\u001b[0;34m()\u001b[0m\n\u001b[1;32m      4\u001b[0m \u001b[0;32mprint\u001b[0m\u001b[0;34m(\u001b[0m\u001b[0ma\u001b[0m\u001b[0;34m)\u001b[0m\u001b[0;34m\u001b[0m\u001b[0m\n\u001b[1;32m      5\u001b[0m \u001b[0;32mprint\u001b[0m\u001b[0;34m(\u001b[0m\u001b[0mb\u001b[0m\u001b[0;34m)\u001b[0m\u001b[0;34m\u001b[0m\u001b[0m\n\u001b[0;32m----> 6\u001b[0;31m \u001b[0;32mprint\u001b[0m\u001b[0;34m(\u001b[0m\u001b[0ma\u001b[0m\u001b[0;34m*\u001b[0m\u001b[0mb\u001b[0m\u001b[0;34m)\u001b[0m\u001b[0;34m\u001b[0m\u001b[0m\n\u001b[0m",
      "\u001b[0;31mValueError\u001b[0m: operands could not be broadcast together with shapes (4,3) (2,3) "
     ]
    }
   ],
   "source": [
    "#broadcasting doesn't work with anything expect 1's...\n",
    "a = np.arange(12).reshape((4,3))\n",
    "b = np.arange(6).reshape((2,3))\n",
    "\n",
    "print(a)\n",
    "print(b)\n",
    "print(a*b)"
   ]
  },
  {
   "cell_type": "code",
   "execution_count": 34,
   "metadata": {
    "collapsed": false
   },
   "outputs": [
    {
     "name": "stdout",
     "output_type": "stream",
     "text": [
      "[[ 1  2  5]\n",
      " [ 1  5 11]\n",
      " [ 1  8 17]]\n",
      "[[ 1  1  1]\n",
      " [ 4  5  6]\n",
      " [13 15 17]]\n"
     ]
    }
   ],
   "source": [
    "#Vectorise any function!!\n",
    "def myfunc(a,b):\n",
    "    return a*(b) + 1\n",
    "\n",
    "myufunc = np.vectorize(myfunc)\n",
    "\n",
    "a = np.arange(9).reshape((3,3))\n",
    "b = np.arange(3)\n",
    "\n",
    "print(myufunc(a,b[None,:]))\n",
    "print(myufunc(a,b[:,None]))"
   ]
  },
  {
   "cell_type": "code",
   "execution_count": 39,
   "metadata": {
    "collapsed": false
   },
   "outputs": [
    {
     "name": "stdout",
     "output_type": "stream",
     "text": [
      "[[[ 0  1  2]\n",
      "  [ 3  4  5]\n",
      "  [ 6  7  8]]\n",
      "\n",
      " [[ 9 10 11]\n",
      "  [12 13 14]\n",
      "  [15 16 17]]\n",
      "\n",
      " [[18 19 20]\n",
      "  [21 22 23]\n",
      "  [24 25 26]]]\n"
     ]
    },
    {
     "data": {
      "text/plain": [
       "array([[ 0, 13],\n",
       "       [26,  2]])"
      ]
     },
     "execution_count": 39,
     "metadata": {},
     "output_type": "execute_result"
    }
   ],
   "source": [
    "#fancy indexing\n",
    "\n",
    "A = np.arange(27).reshape((3,3,3))\n",
    "\n",
    "print(A)\n",
    "#Desired end result:\n",
    "# [ A[0,0,0] A[1,1,1]\n",
    "#   A[2,2,2] A[0,0,2]]\n",
    "fancyIndex = [\n",
    "    np.array([  [0,1]\n",
    "               ,[2,0]])\n",
    "    ,np.array([ [0,1]\n",
    "               ,[2,0]])\n",
    "    ,np.array([ [0,1]\n",
    "               ,[2,2]])\n",
    "]\n",
    "\n",
    "A[fancyIndex]\n"
   ]
  }
 ],
 "metadata": {
  "kernelspec": {
   "display_name": "Python 2",
   "language": "python",
   "name": "python2"
  },
  "language_info": {
   "codemirror_mode": {
    "name": "ipython",
    "version": 2
   },
   "file_extension": ".py",
   "mimetype": "text/x-python",
   "name": "python",
   "nbconvert_exporter": "python",
   "pygments_lexer": "ipython2",
   "version": "2.7.11"
  }
 },
 "nbformat": 4,
 "nbformat_minor": 0
}
