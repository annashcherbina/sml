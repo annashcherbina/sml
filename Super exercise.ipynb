{
 "cells": [
  {
   "cell_type": "code",
   "execution_count": null,
   "metadata": {
    "collapsed": false
   },
   "outputs": [],
   "source": [
    "class A(object):\n",
    "    hi = 1\n",
    "    def ho(self):\n",
    "        return \"A method\",self.hi\n",
    "\n",
    "class B(A):\n",
    "    hi = 2\n",
    "    def ho(self):\n",
    "        return \"B method\",self.hi\n",
    "    \n",
    "class C(B):\n",
    "    hi = 3;\n",
    "    sup1 = super(B)\n",
    "    def ho(self):\n",
    "        return \"C method\",self.hi\n",
    "\n",
    "C.sup2 = super(C)\n",
    "c = C()"
   ]
  },
  {
   "cell_type": "code",
   "execution_count": null,
   "metadata": {
    "collapsed": false
   },
   "outputs": [],
   "source": [
    "print \"c's hi\",c.hi\n",
    "print \"c's ho\",c.ho()"
   ]
  },
  {
   "cell_type": "code",
   "execution_count": null,
   "metadata": {
    "collapsed": false
   },
   "outputs": [],
   "source": [
    "print \"sup2 hi\",c.sup2.hi\n",
    "print \"sup2 ho\",c.sup2.ho()"
   ]
  },
  {
   "cell_type": "code",
   "execution_count": null,
   "metadata": {
    "collapsed": false
   },
   "outputs": [],
   "source": [
    "print \"sup1 hi\",c.sup1.hi\n",
    "print \"sup1 ho\",c.sup1.ho() #calling the super's ho() externally - passes in \"self\""
   ]
  },
  {
   "cell_type": "code",
   "execution_count": null,
   "metadata": {
    "collapsed": true
   },
   "outputs": [],
   "source": []
  }
 ],
 "metadata": {
  "kernelspec": {
   "display_name": "Python 2",
   "language": "python",
   "name": "python2"
  },
  "language_info": {
   "codemirror_mode": {
    "name": "ipython",
    "version": 2
   },
   "file_extension": ".py",
   "mimetype": "text/x-python",
   "name": "python",
   "nbconvert_exporter": "python",
   "pygments_lexer": "ipython2",
   "version": "2.7.9"
  }
 },
 "nbformat": 4,
 "nbformat_minor": 0
}
